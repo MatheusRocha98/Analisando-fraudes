{
 "cells": [
  {
   "cell_type": "markdown",
   "id": "ad8e6721-d1c6-490b-899c-5e8baf3dd552",
   "metadata": {},
   "source": [
    "**ANALISANDO FRAUDES, DETALHANDO PASSO A PASSO COMO EU FIZ,\n",
    "QUAIS CRITÉRIOS UTILIZEI E QUAIS RESULTADOS OBTIVE**"
   ]
  },
  {
   "cell_type": "markdown",
   "id": "28b33740-33c8-424d-845b-042e8825991b",
   "metadata": {},
   "source": [
    "**portfólio feito por Matheus Amaral da Rocha**"
   ]
  },
  {
   "cell_type": "code",
   "execution_count": 220,
   "id": "6ab45633-8790-4459-b2e0-f52f9f4933ce",
   "metadata": {},
   "outputs": [],
   "source": [
    "# importando o pandas para abrir , visualizar e tratar o dataframe\n",
    "\n",
    "import pandas as pd"
   ]
  },
  {
   "cell_type": "code",
   "execution_count": 221,
   "id": "d6d59361-a86a-4acf-a635-0c31f54f2052",
   "metadata": {},
   "outputs": [],
   "source": [
    "# lendo nosso dataframe de fraude contendo cidade, estado, categoria, cargo e etc\n",
    "\n",
    "df = pd.read_csv('frauddata.csv')"
   ]
  },
  {
   "cell_type": "code",
   "execution_count": 222,
   "id": "d202b68b-066d-4445-b6e3-a5f8bf7346ee",
   "metadata": {},
   "outputs": [],
   "source": [
    "# selecionei somente as colunas que notei necessárias para a analise\n",
    "\n",
    "f = df[['trans_date_trans_time', 'category',\n",
    "        'city', 'state', 'job', 'trans_num','is_fraud']]"
   ]
  },
  {
   "cell_type": "code",
   "execution_count": 223,
   "id": "b47747c5-2ae7-42fd-a2b4-edda8a8946e4",
   "metadata": {},
   "outputs": [
    {
     "data": {
      "text/html": [
       "<div>\n",
       "<style scoped>\n",
       "    .dataframe tbody tr th:only-of-type {\n",
       "        vertical-align: middle;\n",
       "    }\n",
       "\n",
       "    .dataframe tbody tr th {\n",
       "        vertical-align: top;\n",
       "    }\n",
       "\n",
       "    .dataframe thead th {\n",
       "        text-align: right;\n",
       "    }\n",
       "</style>\n",
       "<table border=\"1\" class=\"dataframe\">\n",
       "  <thead>\n",
       "    <tr style=\"text-align: right;\">\n",
       "      <th></th>\n",
       "      <th>trans_date_trans_time</th>\n",
       "      <th>category</th>\n",
       "      <th>city</th>\n",
       "      <th>state</th>\n",
       "      <th>job</th>\n",
       "      <th>trans_num</th>\n",
       "      <th>is_fraud</th>\n",
       "    </tr>\n",
       "  </thead>\n",
       "  <tbody>\n",
       "    <tr>\n",
       "      <th>0</th>\n",
       "      <td>04-01-2019 00:58</td>\n",
       "      <td>grocery_net</td>\n",
       "      <td>Wales</td>\n",
       "      <td>AK</td>\n",
       "      <td>\"Administrator, education\"</td>\n",
       "      <td>a3806e984cec6ac0096d8184c64ad3a1</td>\n",
       "      <td>1</td>\n",
       "    </tr>\n",
       "    <tr>\n",
       "      <th>1</th>\n",
       "      <td>04-01-2019 15:06</td>\n",
       "      <td>shopping_net</td>\n",
       "      <td>Wales</td>\n",
       "      <td>AK</td>\n",
       "      <td>\"Administrator, education\"</td>\n",
       "      <td>a59185fe1b9ccf21323f581d7477573f</td>\n",
       "      <td>1</td>\n",
       "    </tr>\n",
       "    <tr>\n",
       "      <th>2</th>\n",
       "      <td>04-01-2019 22:37</td>\n",
       "      <td>misc_pos</td>\n",
       "      <td>Wales</td>\n",
       "      <td>AK</td>\n",
       "      <td>\"Administrator, education\"</td>\n",
       "      <td>86ba3a888b42cd3925881fa34177b4e0</td>\n",
       "      <td>1</td>\n",
       "    </tr>\n",
       "  </tbody>\n",
       "</table>\n",
       "</div>"
      ],
      "text/plain": [
       "  trans_date_trans_time      category   city state  \\\n",
       "0      04-01-2019 00:58   grocery_net  Wales    AK   \n",
       "1      04-01-2019 15:06  shopping_net  Wales    AK   \n",
       "2      04-01-2019 22:37      misc_pos  Wales    AK   \n",
       "\n",
       "                          job                         trans_num is_fraud  \n",
       "0  \"Administrator, education\"  a3806e984cec6ac0096d8184c64ad3a1        1  \n",
       "1  \"Administrator, education\"  a59185fe1b9ccf21323f581d7477573f        1  \n",
       "2  \"Administrator, education\"  86ba3a888b42cd3925881fa34177b4e0        1  "
      ]
     },
     "execution_count": 223,
     "metadata": {},
     "output_type": "execute_result"
    }
   ],
   "source": [
    "# usei head somente para visualizar as informações que tenho disponiveis para trabalhar\n",
    "\n",
    "f.head(3)"
   ]
  },
  {
   "cell_type": "code",
   "execution_count": 224,
   "id": "51f41b3a-888e-43d4-ab00-e8d5c31d27db",
   "metadata": {},
   "outputs": [
    {
     "name": "stdout",
     "output_type": "stream",
     "text": [
      "<class 'pandas.core.frame.DataFrame'>\n",
      "RangeIndex: 14446 entries, 0 to 14445\n",
      "Data columns (total 7 columns):\n",
      " #   Column                 Non-Null Count  Dtype \n",
      "---  ------                 --------------  ----- \n",
      " 0   trans_date_trans_time  14446 non-null  object\n",
      " 1   category               14446 non-null  object\n",
      " 2   city                   14446 non-null  object\n",
      " 3   state                  14446 non-null  object\n",
      " 4   job                    14446 non-null  object\n",
      " 5   trans_num              14446 non-null  object\n",
      " 6   is_fraud               14446 non-null  object\n",
      "dtypes: object(7)\n",
      "memory usage: 790.1+ KB\n"
     ]
    }
   ],
   "source": [
    "# notei usando info() que a coluna is_fraud está como object (string) e preciso dela como int para encontrar\n",
    "# o local com maior numero de fraude ( um ponto positivo é a ausencia de nulos , o que facilita demais )\n",
    "\n",
    "f.info()"
   ]
  },
  {
   "cell_type": "code",
   "execution_count": 225,
   "id": "5fb9430a-96ca-46f9-b4cf-18a7a37255b0",
   "metadata": {},
   "outputs": [
    {
     "ename": "ValueError",
     "evalue": "invalid literal for int() with base 10: '1\"2020-12-24 16:56:24\"'",
     "output_type": "error",
     "traceback": [
      "\u001b[1;31m---------------------------------------------------------------------------\u001b[0m",
      "\u001b[1;31mValueError\u001b[0m                                Traceback (most recent call last)",
      "Cell \u001b[1;32mIn[225], line 4\u001b[0m\n\u001b[0;32m      1\u001b[0m \u001b[38;5;66;03m# aqui notei um erro ao alterar o tipo da coluna devido a algum dado na coluna que nao era \u001b[39;00m\n\u001b[0;32m      2\u001b[0m \u001b[38;5;66;03m# numérico, impedindo a mudança de tipo e retornando um erro ( no caso estava como object(string))\u001b[39;00m\n\u001b[1;32m----> 4\u001b[0m f[\u001b[38;5;124m'\u001b[39m\u001b[38;5;124mis_fraud\u001b[39m\u001b[38;5;124m'\u001b[39m] \u001b[38;5;241m=\u001b[39m f[\u001b[38;5;124m'\u001b[39m\u001b[38;5;124mis_fraud\u001b[39m\u001b[38;5;124m'\u001b[39m]\u001b[38;5;241m.\u001b[39mastype(\u001b[38;5;28mint\u001b[39m)\n",
      "File \u001b[1;32mC:\\ProgramData\\anaconda3\\Lib\\site-packages\\pandas\\core\\generic.py:6534\u001b[0m, in \u001b[0;36mNDFrame.astype\u001b[1;34m(self, dtype, copy, errors)\u001b[0m\n\u001b[0;32m   6530\u001b[0m     results \u001b[38;5;241m=\u001b[39m [ser\u001b[38;5;241m.\u001b[39mastype(dtype, copy\u001b[38;5;241m=\u001b[39mcopy) \u001b[38;5;28;01mfor\u001b[39;00m _, ser \u001b[38;5;129;01min\u001b[39;00m \u001b[38;5;28mself\u001b[39m\u001b[38;5;241m.\u001b[39mitems()]\n\u001b[0;32m   6532\u001b[0m \u001b[38;5;28;01melse\u001b[39;00m:\n\u001b[0;32m   6533\u001b[0m     \u001b[38;5;66;03m# else, only a single dtype is given\u001b[39;00m\n\u001b[1;32m-> 6534\u001b[0m     new_data \u001b[38;5;241m=\u001b[39m \u001b[38;5;28mself\u001b[39m\u001b[38;5;241m.\u001b[39m_mgr\u001b[38;5;241m.\u001b[39mastype(dtype\u001b[38;5;241m=\u001b[39mdtype, copy\u001b[38;5;241m=\u001b[39mcopy, errors\u001b[38;5;241m=\u001b[39merrors)\n\u001b[0;32m   6535\u001b[0m     res \u001b[38;5;241m=\u001b[39m \u001b[38;5;28mself\u001b[39m\u001b[38;5;241m.\u001b[39m_constructor_from_mgr(new_data, axes\u001b[38;5;241m=\u001b[39mnew_data\u001b[38;5;241m.\u001b[39maxes)\n\u001b[0;32m   6536\u001b[0m     \u001b[38;5;28;01mreturn\u001b[39;00m res\u001b[38;5;241m.\u001b[39m__finalize__(\u001b[38;5;28mself\u001b[39m, method\u001b[38;5;241m=\u001b[39m\u001b[38;5;124m\"\u001b[39m\u001b[38;5;124mastype\u001b[39m\u001b[38;5;124m\"\u001b[39m)\n",
      "File \u001b[1;32mC:\\ProgramData\\anaconda3\\Lib\\site-packages\\pandas\\core\\internals\\managers.py:414\u001b[0m, in \u001b[0;36mBaseBlockManager.astype\u001b[1;34m(self, dtype, copy, errors)\u001b[0m\n\u001b[0;32m    411\u001b[0m \u001b[38;5;28;01melif\u001b[39;00m using_copy_on_write():\n\u001b[0;32m    412\u001b[0m     copy \u001b[38;5;241m=\u001b[39m \u001b[38;5;28;01mFalse\u001b[39;00m\n\u001b[1;32m--> 414\u001b[0m \u001b[38;5;28;01mreturn\u001b[39;00m \u001b[38;5;28mself\u001b[39m\u001b[38;5;241m.\u001b[39mapply(\n\u001b[0;32m    415\u001b[0m     \u001b[38;5;124m\"\u001b[39m\u001b[38;5;124mastype\u001b[39m\u001b[38;5;124m\"\u001b[39m,\n\u001b[0;32m    416\u001b[0m     dtype\u001b[38;5;241m=\u001b[39mdtype,\n\u001b[0;32m    417\u001b[0m     copy\u001b[38;5;241m=\u001b[39mcopy,\n\u001b[0;32m    418\u001b[0m     errors\u001b[38;5;241m=\u001b[39merrors,\n\u001b[0;32m    419\u001b[0m     using_cow\u001b[38;5;241m=\u001b[39musing_copy_on_write(),\n\u001b[0;32m    420\u001b[0m )\n",
      "File \u001b[1;32mC:\\ProgramData\\anaconda3\\Lib\\site-packages\\pandas\\core\\internals\\managers.py:354\u001b[0m, in \u001b[0;36mBaseBlockManager.apply\u001b[1;34m(self, f, align_keys, **kwargs)\u001b[0m\n\u001b[0;32m    352\u001b[0m         applied \u001b[38;5;241m=\u001b[39m b\u001b[38;5;241m.\u001b[39mapply(f, \u001b[38;5;241m*\u001b[39m\u001b[38;5;241m*\u001b[39mkwargs)\n\u001b[0;32m    353\u001b[0m     \u001b[38;5;28;01melse\u001b[39;00m:\n\u001b[1;32m--> 354\u001b[0m         applied \u001b[38;5;241m=\u001b[39m \u001b[38;5;28mgetattr\u001b[39m(b, f)(\u001b[38;5;241m*\u001b[39m\u001b[38;5;241m*\u001b[39mkwargs)\n\u001b[0;32m    355\u001b[0m     result_blocks \u001b[38;5;241m=\u001b[39m extend_blocks(applied, result_blocks)\n\u001b[0;32m    357\u001b[0m out \u001b[38;5;241m=\u001b[39m \u001b[38;5;28mtype\u001b[39m(\u001b[38;5;28mself\u001b[39m)\u001b[38;5;241m.\u001b[39mfrom_blocks(result_blocks, \u001b[38;5;28mself\u001b[39m\u001b[38;5;241m.\u001b[39maxes)\n",
      "File \u001b[1;32mC:\\ProgramData\\anaconda3\\Lib\\site-packages\\pandas\\core\\internals\\blocks.py:616\u001b[0m, in \u001b[0;36mBlock.astype\u001b[1;34m(self, dtype, copy, errors, using_cow)\u001b[0m\n\u001b[0;32m    596\u001b[0m \u001b[38;5;250m\u001b[39m\u001b[38;5;124;03m\"\"\"\u001b[39;00m\n\u001b[0;32m    597\u001b[0m \u001b[38;5;124;03mCoerce to the new dtype.\u001b[39;00m\n\u001b[0;32m    598\u001b[0m \n\u001b[1;32m   (...)\u001b[0m\n\u001b[0;32m    612\u001b[0m \u001b[38;5;124;03mBlock\u001b[39;00m\n\u001b[0;32m    613\u001b[0m \u001b[38;5;124;03m\"\"\"\u001b[39;00m\n\u001b[0;32m    614\u001b[0m values \u001b[38;5;241m=\u001b[39m \u001b[38;5;28mself\u001b[39m\u001b[38;5;241m.\u001b[39mvalues\n\u001b[1;32m--> 616\u001b[0m new_values \u001b[38;5;241m=\u001b[39m astype_array_safe(values, dtype, copy\u001b[38;5;241m=\u001b[39mcopy, errors\u001b[38;5;241m=\u001b[39merrors)\n\u001b[0;32m    618\u001b[0m new_values \u001b[38;5;241m=\u001b[39m maybe_coerce_values(new_values)\n\u001b[0;32m    620\u001b[0m refs \u001b[38;5;241m=\u001b[39m \u001b[38;5;28;01mNone\u001b[39;00m\n",
      "File \u001b[1;32mC:\\ProgramData\\anaconda3\\Lib\\site-packages\\pandas\\core\\dtypes\\astype.py:238\u001b[0m, in \u001b[0;36mastype_array_safe\u001b[1;34m(values, dtype, copy, errors)\u001b[0m\n\u001b[0;32m    235\u001b[0m     dtype \u001b[38;5;241m=\u001b[39m dtype\u001b[38;5;241m.\u001b[39mnumpy_dtype\n\u001b[0;32m    237\u001b[0m \u001b[38;5;28;01mtry\u001b[39;00m:\n\u001b[1;32m--> 238\u001b[0m     new_values \u001b[38;5;241m=\u001b[39m astype_array(values, dtype, copy\u001b[38;5;241m=\u001b[39mcopy)\n\u001b[0;32m    239\u001b[0m \u001b[38;5;28;01mexcept\u001b[39;00m (\u001b[38;5;167;01mValueError\u001b[39;00m, \u001b[38;5;167;01mTypeError\u001b[39;00m):\n\u001b[0;32m    240\u001b[0m     \u001b[38;5;66;03m# e.g. _astype_nansafe can fail on object-dtype of strings\u001b[39;00m\n\u001b[0;32m    241\u001b[0m     \u001b[38;5;66;03m#  trying to convert to float\u001b[39;00m\n\u001b[0;32m    242\u001b[0m     \u001b[38;5;28;01mif\u001b[39;00m errors \u001b[38;5;241m==\u001b[39m \u001b[38;5;124m\"\u001b[39m\u001b[38;5;124mignore\u001b[39m\u001b[38;5;124m\"\u001b[39m:\n",
      "File \u001b[1;32mC:\\ProgramData\\anaconda3\\Lib\\site-packages\\pandas\\core\\dtypes\\astype.py:183\u001b[0m, in \u001b[0;36mastype_array\u001b[1;34m(values, dtype, copy)\u001b[0m\n\u001b[0;32m    180\u001b[0m     values \u001b[38;5;241m=\u001b[39m values\u001b[38;5;241m.\u001b[39mastype(dtype, copy\u001b[38;5;241m=\u001b[39mcopy)\n\u001b[0;32m    182\u001b[0m \u001b[38;5;28;01melse\u001b[39;00m:\n\u001b[1;32m--> 183\u001b[0m     values \u001b[38;5;241m=\u001b[39m _astype_nansafe(values, dtype, copy\u001b[38;5;241m=\u001b[39mcopy)\n\u001b[0;32m    185\u001b[0m \u001b[38;5;66;03m# in pandas we don't store numpy str dtypes, so convert to object\u001b[39;00m\n\u001b[0;32m    186\u001b[0m \u001b[38;5;28;01mif\u001b[39;00m \u001b[38;5;28misinstance\u001b[39m(dtype, np\u001b[38;5;241m.\u001b[39mdtype) \u001b[38;5;129;01mand\u001b[39;00m \u001b[38;5;28missubclass\u001b[39m(values\u001b[38;5;241m.\u001b[39mdtype\u001b[38;5;241m.\u001b[39mtype, \u001b[38;5;28mstr\u001b[39m):\n",
      "File \u001b[1;32mC:\\ProgramData\\anaconda3\\Lib\\site-packages\\pandas\\core\\dtypes\\astype.py:134\u001b[0m, in \u001b[0;36m_astype_nansafe\u001b[1;34m(arr, dtype, copy, skipna)\u001b[0m\n\u001b[0;32m    130\u001b[0m     \u001b[38;5;28;01mraise\u001b[39;00m \u001b[38;5;167;01mValueError\u001b[39;00m(msg)\n\u001b[0;32m    132\u001b[0m \u001b[38;5;28;01mif\u001b[39;00m copy \u001b[38;5;129;01mor\u001b[39;00m arr\u001b[38;5;241m.\u001b[39mdtype \u001b[38;5;241m==\u001b[39m \u001b[38;5;28mobject\u001b[39m \u001b[38;5;129;01mor\u001b[39;00m dtype \u001b[38;5;241m==\u001b[39m \u001b[38;5;28mobject\u001b[39m:\n\u001b[0;32m    133\u001b[0m     \u001b[38;5;66;03m# Explicit copy, or required since NumPy can't view from / to object.\u001b[39;00m\n\u001b[1;32m--> 134\u001b[0m     \u001b[38;5;28;01mreturn\u001b[39;00m arr\u001b[38;5;241m.\u001b[39mastype(dtype, copy\u001b[38;5;241m=\u001b[39m\u001b[38;5;28;01mTrue\u001b[39;00m)\n\u001b[0;32m    136\u001b[0m \u001b[38;5;28;01mreturn\u001b[39;00m arr\u001b[38;5;241m.\u001b[39mastype(dtype, copy\u001b[38;5;241m=\u001b[39mcopy)\n",
      "\u001b[1;31mValueError\u001b[0m: invalid literal for int() with base 10: '1\"2020-12-24 16:56:24\"'"
     ]
    }
   ],
   "source": [
    "# aqui notei um erro ao alterar o tipo da coluna devido a algum dado na coluna que nao era \n",
    "# numérico, impedindo a mudança de tipo e retornando um erro ( no caso estava como object(string))\n",
    "\n",
    "f['is_fraud'] = f['is_fraud'].astype(int)\n",
    "\n",
    "# o erro abaixo deixei propositalmente para mostrar como eu corrigi ele"
   ]
  },
  {
   "cell_type": "code",
   "execution_count": 226,
   "id": "e7749a8e-a7e5-4af7-bc29-a498bf50d142",
   "metadata": {},
   "outputs": [
    {
     "data": {
      "text/html": [
       "<div>\n",
       "<style scoped>\n",
       "    .dataframe tbody tr th:only-of-type {\n",
       "        vertical-align: middle;\n",
       "    }\n",
       "\n",
       "    .dataframe tbody tr th {\n",
       "        vertical-align: top;\n",
       "    }\n",
       "\n",
       "    .dataframe thead th {\n",
       "        text-align: right;\n",
       "    }\n",
       "</style>\n",
       "<table border=\"1\" class=\"dataframe\">\n",
       "  <thead>\n",
       "    <tr style=\"text-align: right;\">\n",
       "      <th></th>\n",
       "      <th>trans_date_trans_time</th>\n",
       "      <th>category</th>\n",
       "      <th>city</th>\n",
       "      <th>state</th>\n",
       "      <th>job</th>\n",
       "      <th>trans_num</th>\n",
       "      <th>is_fraud</th>\n",
       "    </tr>\n",
       "  </thead>\n",
       "  <tbody>\n",
       "    <tr>\n",
       "      <th>1781</th>\n",
       "      <td>11-12-2020 23:19</td>\n",
       "      <td>health_fitness</td>\n",
       "      <td>Lakeport</td>\n",
       "      <td>CA</td>\n",
       "      <td>Podiatrist</td>\n",
       "      <td>bfde75d978bb9905a4a8c87440692a4c</td>\n",
       "      <td>1\"2020-12-24 16:56:24\"</td>\n",
       "    </tr>\n",
       "    <tr>\n",
       "      <th>7780</th>\n",
       "      <td>31-12-2020 23:59</td>\n",
       "      <td>travel</td>\n",
       "      <td>Mesa</td>\n",
       "      <td>ID</td>\n",
       "      <td>Cartographer</td>\n",
       "      <td>14392d723bb7737606b2700ac791b7aa</td>\n",
       "      <td>0\"2019-01-01 00:00:44\"</td>\n",
       "    </tr>\n",
       "  </tbody>\n",
       "</table>\n",
       "</div>"
      ],
      "text/plain": [
       "     trans_date_trans_time        category      city state           job  \\\n",
       "1781      11-12-2020 23:19  health_fitness  Lakeport    CA    Podiatrist   \n",
       "7780      31-12-2020 23:59          travel      Mesa    ID  Cartographer   \n",
       "\n",
       "                             trans_num                is_fraud  \n",
       "1781  bfde75d978bb9905a4a8c87440692a4c  1\"2020-12-24 16:56:24\"  \n",
       "7780  14392d723bb7737606b2700ac791b7aa  0\"2019-01-01 00:00:44\"  "
      ]
     },
     "execution_count": 226,
     "metadata": {},
     "output_type": "execute_result"
    }
   ],
   "source": [
    "# se eu sei que só deve haver 1 = (true) ou 0 = (false) para indicar sim ou não a uma fraude\n",
    "# fica mais facil encontrar o erro e tratar devidamente\n",
    "\n",
    "f[(f['is_fraud'] != '1')&(f['is_fraud'] != '0')]\n",
    "\n",
    "# pedi acima qualquer coisa na coluna 'is_fraud' diferente de '1' e '0'\n",
    "# e retornou para mim, 2 linhas contendo 1\"2020-12-24 16:56:24\" e 0\"2019-01-01 00:00:44\""
   ]
  },
  {
   "cell_type": "code",
   "execution_count": 227,
   "id": "1d6efc75-cc59-4232-9445-01a6da6e1757",
   "metadata": {},
   "outputs": [
    {
     "name": "stderr",
     "output_type": "stream",
     "text": [
      "C:\\Users\\Agnaldo\\AppData\\Local\\Temp\\ipykernel_10020\\1516516870.py:4: SettingWithCopyWarning: \n",
      "A value is trying to be set on a copy of a slice from a DataFrame\n",
      "\n",
      "See the caveats in the documentation: https://pandas.pydata.org/pandas-docs/stable/user_guide/indexing.html#returning-a-view-versus-a-copy\n",
      "  f.loc[1781, 'is_fraud'] = '1'\n",
      "C:\\Users\\Agnaldo\\AppData\\Local\\Temp\\ipykernel_10020\\1516516870.py:5: SettingWithCopyWarning: \n",
      "A value is trying to be set on a copy of a slice from a DataFrame\n",
      "\n",
      "See the caveats in the documentation: https://pandas.pydata.org/pandas-docs/stable/user_guide/indexing.html#returning-a-view-versus-a-copy\n",
      "  f.loc[7780, 'is_fraud'] = '0'\n"
     ]
    }
   ],
   "source": [
    "# agora ficou facil e eu consegui resolver tratando pelo indice usando .loc com numero do indice e\n",
    "# nome da coluna\n",
    "\n",
    "f.loc[1781, 'is_fraud'] = '1'\n",
    "f.loc[7780, 'is_fraud'] = '0'\n",
    "\n",
    "# alterei 1\"2020-12-24 16:56:24\" e 0\"2019-01-01 00:00:44\" para os valores corretos '1' e '0',\n",
    "# porem ainda estão como string usando aspas, preciso corrigir isso também."
   ]
  },
  {
   "cell_type": "code",
   "execution_count": 228,
   "id": "aa6af151-e69d-437d-bd2e-35ba6347a43b",
   "metadata": {},
   "outputs": [
    {
     "data": {
      "text/html": [
       "<div>\n",
       "<style scoped>\n",
       "    .dataframe tbody tr th:only-of-type {\n",
       "        vertical-align: middle;\n",
       "    }\n",
       "\n",
       "    .dataframe tbody tr th {\n",
       "        vertical-align: top;\n",
       "    }\n",
       "\n",
       "    .dataframe thead th {\n",
       "        text-align: right;\n",
       "    }\n",
       "</style>\n",
       "<table border=\"1\" class=\"dataframe\">\n",
       "  <thead>\n",
       "    <tr style=\"text-align: right;\">\n",
       "      <th></th>\n",
       "      <th>trans_date_trans_time</th>\n",
       "      <th>category</th>\n",
       "      <th>city</th>\n",
       "      <th>state</th>\n",
       "      <th>job</th>\n",
       "      <th>trans_num</th>\n",
       "      <th>is_fraud</th>\n",
       "    </tr>\n",
       "  </thead>\n",
       "  <tbody>\n",
       "  </tbody>\n",
       "</table>\n",
       "</div>"
      ],
      "text/plain": [
       "Empty DataFrame\n",
       "Columns: [trans_date_trans_time, category, city, state, job, trans_num, is_fraud]\n",
       "Index: []"
      ]
     },
     "execution_count": 228,
     "metadata": {},
     "output_type": "execute_result"
    }
   ],
   "source": [
    "# após o tratamento com .loc, sumiram os valores errados que estavam\n",
    "\n",
    "f[(f['is_fraud'] != '1')&(f['is_fraud'] != '0')]"
   ]
  },
  {
   "cell_type": "code",
   "execution_count": 229,
   "id": "7e885eec-66bf-4312-bca3-6b327f2fe2ed",
   "metadata": {},
   "outputs": [
    {
     "name": "stderr",
     "output_type": "stream",
     "text": [
      "C:\\Users\\Agnaldo\\AppData\\Local\\Temp\\ipykernel_10020\\1640251304.py:4: SettingWithCopyWarning: \n",
      "A value is trying to be set on a copy of a slice from a DataFrame\n",
      "\n",
      "See the caveats in the documentation: https://pandas.pydata.org/pandas-docs/stable/user_guide/indexing.html#returning-a-view-versus-a-copy\n",
      "  f.loc[f['is_fraud'] == '1', 'is_fraud'] = 1\n",
      "C:\\Users\\Agnaldo\\AppData\\Local\\Temp\\ipykernel_10020\\1640251304.py:5: SettingWithCopyWarning: \n",
      "A value is trying to be set on a copy of a slice from a DataFrame\n",
      "\n",
      "See the caveats in the documentation: https://pandas.pydata.org/pandas-docs/stable/user_guide/indexing.html#returning-a-view-versus-a-copy\n",
      "  f.loc[f['is_fraud'] == '0', 'is_fraud'] = 0\n"
     ]
    }
   ],
   "source": [
    "# agora vou transformar os numeros em strings para numeros normais para \n",
    "# conseguir alterar o tipo para int\n",
    "\n",
    "f.loc[f['is_fraud'] == '1', 'is_fraud'] = 1\n",
    "f.loc[f['is_fraud'] == '0', 'is_fraud'] = 0\n",
    "\n",
    "# agora '1' virou 1 e '0' virou 0"
   ]
  },
  {
   "cell_type": "code",
   "execution_count": 230,
   "id": "0169e6a4-21ef-4ef9-8eef-aa2498bb2d1e",
   "metadata": {},
   "outputs": [
    {
     "name": "stderr",
     "output_type": "stream",
     "text": [
      "C:\\Users\\Agnaldo\\AppData\\Local\\Temp\\ipykernel_10020\\3528884742.py:3: SettingWithCopyWarning: \n",
      "A value is trying to be set on a copy of a slice from a DataFrame.\n",
      "Try using .loc[row_indexer,col_indexer] = value instead\n",
      "\n",
      "See the caveats in the documentation: https://pandas.pydata.org/pandas-docs/stable/user_guide/indexing.html#returning-a-view-versus-a-copy\n",
      "  f['is_fraud'] = f['is_fraud'].astype(int)\n"
     ]
    }
   ],
   "source": [
    "# agora consegui com exito transformar o tipo em int, ja consigo operar sobre essa coluna\n",
    "\n",
    "f['is_fraud'] = f['is_fraud'].astype(int)"
   ]
  },
  {
   "cell_type": "code",
   "execution_count": 231,
   "id": "02d35e43-53b2-4e6b-8c48-1d3f3d6137dc",
   "metadata": {},
   "outputs": [
    {
     "name": "stdout",
     "output_type": "stream",
     "text": [
      "<class 'pandas.core.frame.DataFrame'>\n",
      "RangeIndex: 14446 entries, 0 to 14445\n",
      "Data columns (total 7 columns):\n",
      " #   Column                 Non-Null Count  Dtype \n",
      "---  ------                 --------------  ----- \n",
      " 0   trans_date_trans_time  14446 non-null  object\n",
      " 1   category               14446 non-null  object\n",
      " 2   city                   14446 non-null  object\n",
      " 3   state                  14446 non-null  object\n",
      " 4   job                    14446 non-null  object\n",
      " 5   trans_num              14446 non-null  object\n",
      " 6   is_fraud               14446 non-null  int32 \n",
      "dtypes: int32(1), object(6)\n",
      "memory usage: 733.7+ KB\n"
     ]
    }
   ],
   "source": [
    "# tipo da coluna is_fraud agora como int\n",
    "\n",
    "f.info()"
   ]
  },
  {
   "cell_type": "code",
   "execution_count": 232,
   "id": "49c20278-bdf2-4a25-8bc8-4f4e29b8ff10",
   "metadata": {},
   "outputs": [],
   "source": [
    "# resolvi aqui colocar os nomes em pt-br para facil entendimento das pessoas \n",
    "# que não sabem inglês (acessibilidade)\n",
    "\n",
    "f = f.rename(columns = {'trans_date_trans_time' : 'data_hora_transação',\n",
    "                        'category' : 'categoria',\n",
    "                        'city' : 'cidade',\n",
    "                        'state' : 'estado',\n",
    "                        'job' : 'cargo',\n",
    "                        'is_fraud' : 'fraude?'})"
   ]
  },
  {
   "cell_type": "code",
   "execution_count": 233,
   "id": "457f3369-0344-4753-8861-3b48d2762951",
   "metadata": {},
   "outputs": [
    {
     "data": {
      "text/html": [
       "<div>\n",
       "<style scoped>\n",
       "    .dataframe tbody tr th:only-of-type {\n",
       "        vertical-align: middle;\n",
       "    }\n",
       "\n",
       "    .dataframe tbody tr th {\n",
       "        vertical-align: top;\n",
       "    }\n",
       "\n",
       "    .dataframe thead th {\n",
       "        text-align: right;\n",
       "    }\n",
       "</style>\n",
       "<table border=\"1\" class=\"dataframe\">\n",
       "  <thead>\n",
       "    <tr style=\"text-align: right;\">\n",
       "      <th></th>\n",
       "      <th>data_hora_transação</th>\n",
       "      <th>categoria</th>\n",
       "      <th>cidade</th>\n",
       "      <th>estado</th>\n",
       "      <th>cargo</th>\n",
       "      <th>trans_num</th>\n",
       "      <th>fraude?</th>\n",
       "    </tr>\n",
       "  </thead>\n",
       "  <tbody>\n",
       "    <tr>\n",
       "      <th>0</th>\n",
       "      <td>04-01-2019 00:58</td>\n",
       "      <td>grocery_net</td>\n",
       "      <td>Wales</td>\n",
       "      <td>AK</td>\n",
       "      <td>\"Administrator, education\"</td>\n",
       "      <td>a3806e984cec6ac0096d8184c64ad3a1</td>\n",
       "      <td>1</td>\n",
       "    </tr>\n",
       "  </tbody>\n",
       "</table>\n",
       "</div>"
      ],
      "text/plain": [
       "  data_hora_transação    categoria cidade estado                       cargo  \\\n",
       "0    04-01-2019 00:58  grocery_net  Wales     AK  \"Administrator, education\"   \n",
       "\n",
       "                          trans_num  fraude?  \n",
       "0  a3806e984cec6ac0096d8184c64ad3a1        1  "
      ]
     },
     "execution_count": 233,
     "metadata": {},
     "output_type": "execute_result"
    }
   ],
   "source": [
    "# aqui solicitei uma linha somente para mostrar as colunas renomeadas devidamente em pt-br\n",
    "\n",
    "f.head(1)"
   ]
  },
  {
   "cell_type": "code",
   "execution_count": 234,
   "id": "bf09b9c8-d1ef-40f6-ac26-fbb561be6677",
   "metadata": {},
   "outputs": [
    {
     "name": "stdout",
     "output_type": "stream",
     "text": [
      "1845\n"
     ]
    }
   ],
   "source": [
    "# iterando sobre a coluna fraude para descobrir o numero total de fraudes e armazenar em uma variavel\n",
    "\n",
    "cont = 0\n",
    "\n",
    "for i, each in enumerate(f['fraude?']):\n",
    "    if each == 1:\n",
    "        cont = cont + 1\n",
    "\n",
    "print(cont)\n",
    "\n",
    "# agora sabemos que o total de fraudes ( valor 1 na coluna ) é igual a 1845 e está armazenado em \n",
    "# uma variavel"
   ]
  },
  {
   "cell_type": "code",
   "execution_count": 235,
   "id": "de12c48b-8729-447a-9f37-9915a68812ad",
   "metadata": {},
   "outputs": [
    {
     "name": "stdout",
     "output_type": "stream",
     "text": [
      "<class 'pandas.core.frame.DataFrame'>\n",
      "RangeIndex: 14446 entries, 0 to 14445\n",
      "Data columns (total 7 columns):\n",
      " #   Column               Non-Null Count  Dtype \n",
      "---  ------               --------------  ----- \n",
      " 0   data_hora_transação  14446 non-null  object\n",
      " 1   categoria            14446 non-null  object\n",
      " 2   cidade               14446 non-null  object\n",
      " 3   estado               14446 non-null  object\n",
      " 4   cargo                14446 non-null  object\n",
      " 5   trans_num            14446 non-null  object\n",
      " 6   fraude?              14446 non-null  int32 \n",
      "dtypes: int32(1), object(6)\n",
      "memory usage: 733.7+ KB\n"
     ]
    }
   ],
   "source": [
    "# analisando o info denovo, sei que existem 14.446 linhas totais do dataframe\n",
    "# todas contendo somente 1 = (fraude) e 0 = (não fraude)\n",
    "# e nenhuma delas carregando valores nulos\n",
    "\n",
    "f.info()"
   ]
  },
  {
   "cell_type": "code",
   "execution_count": 236,
   "id": "b1aeae49-4007-4ca9-91b0-8bf4efba0e29",
   "metadata": {},
   "outputs": [],
   "source": [
    "# agora vamos descobrir a porcentagem de fraudes usando o bom e velho\n",
    "# numero de fraudes dividido pelo total de registros incluindo tanto \n",
    "# 1 = (fraude) quanto os 0 = (não fraudes)\n",
    "# para isso vamos armazenar a contagem de linhas do dataframe em uma\n",
    "# variavel para conseguirmos executar o calculo corretamente\n",
    "\n",
    "total_registros = len(f['fraude?'])"
   ]
  },
  {
   "cell_type": "code",
   "execution_count": 237,
   "id": "ccc1bd35-4a9d-4654-9db0-ab6b4e3217fa",
   "metadata": {},
   "outputs": [
    {
     "name": "stdout",
     "output_type": "stream",
     "text": [
      "a média de fraudes é de 13%\n"
     ]
    }
   ],
   "source": [
    "# agora conseguimos a média assim:\n",
    "\n",
    "print(f'a média de fraudes é de {cont/total_registros:.0%}')\n",
    "\n",
    "# 13% das transações foram fraudes, um numero alto demais aue \n",
    "# ja geram muitos prejuizos e podem \n",
    "# gerar muito mais prejuizos a longo prazo se não corrigidos imediatamente !!!"
   ]
  },
  {
   "cell_type": "code",
   "execution_count": 238,
   "id": "9740014d-15b9-4175-bd39-179417cc276c",
   "metadata": {},
   "outputs": [
    {
     "data": {
      "text/html": [
       "<div>\n",
       "<style scoped>\n",
       "    .dataframe tbody tr th:only-of-type {\n",
       "        vertical-align: middle;\n",
       "    }\n",
       "\n",
       "    .dataframe tbody tr th {\n",
       "        vertical-align: top;\n",
       "    }\n",
       "\n",
       "    .dataframe thead th {\n",
       "        text-align: right;\n",
       "    }\n",
       "</style>\n",
       "<table border=\"1\" class=\"dataframe\">\n",
       "  <thead>\n",
       "    <tr style=\"text-align: right;\">\n",
       "      <th></th>\n",
       "      <th>estado</th>\n",
       "      <th>fraude?</th>\n",
       "    </tr>\n",
       "  </thead>\n",
       "  <tbody>\n",
       "    <tr>\n",
       "      <th>2</th>\n",
       "      <td>CA</td>\n",
       "      <td>411</td>\n",
       "    </tr>\n",
       "    <tr>\n",
       "      <th>6</th>\n",
       "      <td>MO</td>\n",
       "      <td>267</td>\n",
       "    </tr>\n",
       "    <tr>\n",
       "      <th>7</th>\n",
       "      <td>NE</td>\n",
       "      <td>238</td>\n",
       "    </tr>\n",
       "  </tbody>\n",
       "</table>\n",
       "</div>"
      ],
      "text/plain": [
       "  estado  fraude?\n",
       "2     CA      411\n",
       "6     MO      267\n",
       "7     NE      238"
      ]
     },
     "execution_count": 238,
     "metadata": {},
     "output_type": "execute_result"
    }
   ],
   "source": [
    "# agora vou tentar descobrir os 3 estados com mais fraudes\n",
    "# para prioridade maior e maior foco !!!\n",
    "\n",
    "f.groupby('estado')['fraude?'].sum().reset_index().sort_values(by = 'fraude?',\n",
    "                                                          ascending = False).head(3)\n",
    "\n",
    "# estado CA ( Califórnia ) tem maior numero de fraudes, porém só\n",
    "# esses numeros podem não ser suficientes para tomar uma decisão"
   ]
  },
  {
   "cell_type": "code",
   "execution_count": 239,
   "id": "c7566214-905b-409b-9ffe-09c414b3c676",
   "metadata": {},
   "outputs": [
    {
     "data": {
      "text/plain": [
       "estado  fraude?\n",
       "AK      0           108\n",
       "        1            65\n",
       "AZ      0           609\n",
       "        1            64\n",
       "CA      0          2964\n",
       "        1           411\n",
       "CO      0           741\n",
       "        1           115\n",
       "HI      0           156\n",
       "        1            16\n",
       "ID      0           314\n",
       "        1            33\n",
       "MO      0          2062\n",
       "        1           267\n",
       "NE      0          1222\n",
       "        1           238\n",
       "NM      0           882\n",
       "        1           121\n",
       "OR      0          1014\n",
       "        1           197\n",
       "UT      0           524\n",
       "        1            73\n",
       "WA      0          1024\n",
       "        1           126\n",
       "WY      0           981\n",
       "        1           119\n",
       "Name: count, dtype: int64"
      ]
     },
     "execution_count": 239,
     "metadata": {},
     "output_type": "execute_result"
    }
   ],
   "source": [
    "# Califórnia tem maior numero de fraudes, porem tambem\n",
    "# o maior numero de não fraudes, então\n",
    "# temos que analisar mais profundamente para saber se\n",
    "# a longo prazo, os demais estados não superem a califórnia\n",
    "# \n",
    "f.groupby('estado')['fraude?'].value_counts()"
   ]
  },
  {
   "cell_type": "code",
   "execution_count": 240,
   "id": "90f41122-e5dd-4cd3-9ac5-9068e725044a",
   "metadata": {},
   "outputs": [],
   "source": [
    "# vamos descobrir a porcentagem de fraude de cada estado\n",
    "# para saber os estados com maior porcentagem de fraude \n",
    "# na relação fraude / total\n",
    "\n",
    "\n",
    "total_ak = 0\n",
    "\n",
    "for estado, fraude in zip(f['estado'], f['fraude?']):\n",
    "    if estado == 'AK':\n",
    "        total_ak = total_ak + 1\n",
    "\n",
    "fraude_ak = 0\n",
    "\n",
    "for estado, fraude in zip(f['estado'], f['fraude?']):\n",
    "    if estado == 'AK' and fraude == 1:\n",
    "        fraude_ak = fraude_ak + 1"
   ]
  },
  {
   "cell_type": "code",
   "execution_count": 241,
   "id": "4e88d498-9ae8-47af-82fd-76559be157a7",
   "metadata": {},
   "outputs": [
    {
     "name": "stdout",
     "output_type": "stream",
     "text": [
      "percentual de fraude AK: 38%\n"
     ]
    }
   ],
   "source": [
    "# percentual de fraude no estado AK\n",
    "print(f'percentual de fraude AK: {fraude_ak / total_ak:.0%}')\n",
    "\n"
   ]
  },
  {
   "cell_type": "code",
   "execution_count": 242,
   "id": "fbceac74-9de5-4253-985b-9ccc2600e34a",
   "metadata": {},
   "outputs": [
    {
     "data": {
      "text/html": [
       "<div>\n",
       "<style scoped>\n",
       "    .dataframe tbody tr th:only-of-type {\n",
       "        vertical-align: middle;\n",
       "    }\n",
       "\n",
       "    .dataframe tbody tr th {\n",
       "        vertical-align: top;\n",
       "    }\n",
       "\n",
       "    .dataframe thead th {\n",
       "        text-align: right;\n",
       "    }\n",
       "</style>\n",
       "<table border=\"1\" class=\"dataframe\">\n",
       "  <thead>\n",
       "    <tr style=\"text-align: right;\">\n",
       "      <th></th>\n",
       "      <th>estado</th>\n",
       "      <th>fraude?</th>\n",
       "    </tr>\n",
       "  </thead>\n",
       "  <tbody>\n",
       "    <tr>\n",
       "      <th>0</th>\n",
       "      <td>AK</td>\n",
       "      <td>0.375723</td>\n",
       "    </tr>\n",
       "    <tr>\n",
       "      <th>7</th>\n",
       "      <td>NE</td>\n",
       "      <td>0.163014</td>\n",
       "    </tr>\n",
       "    <tr>\n",
       "      <th>9</th>\n",
       "      <td>OR</td>\n",
       "      <td>0.162675</td>\n",
       "    </tr>\n",
       "  </tbody>\n",
       "</table>\n",
       "</div>"
      ],
      "text/plain": [
       "  estado   fraude?\n",
       "0     AK  0.375723\n",
       "7     NE  0.163014\n",
       "9     OR  0.162675"
      ]
     },
     "execution_count": 242,
     "metadata": {},
     "output_type": "execute_result"
    }
   ],
   "source": [
    "# notei que fazendo esse agrupamento por só conter 1 e 0, estava me\n",
    "# retornando os valores iguais da porcentagem\n",
    "# então aproveitei para armazenar resetando o indice com reset_index\n",
    "# em uma variavel e plotar um grafico encima disso\n",
    "\n",
    "resultado = f.groupby('estado')['fraude?'].mean().reset_index().sort_values(by = 'fraude?',\n",
    "                                                                            ascending = False)\n",
    "# solicitando top 3 ordenado decrescente\n",
    "resultado.head(3)"
   ]
  },
  {
   "cell_type": "code",
   "execution_count": 243,
   "id": "5fba7fef-a369-446c-8426-bc671688619f",
   "metadata": {},
   "outputs": [
    {
     "data": {
      "image/png": "[encoded data removed]",
      "text/plain": [
       "<Figure size 640x480 with 1 Axes>"
      ]
     },
     "metadata": {},
     "output_type": "display_data"
    }
   ],
   "source": [
    "# vou mostrar esse resultado em forma de grafico para melhor visualização e entendimento\n",
    "# importando matplotlib\n",
    "import matplotlib.pyplot as plt\n",
    "\n",
    "# usando o matplotlib para criar um grafico e mostrar o resultado\n",
    "# de todo tratamento de dado a fim de facilitar a visualização e\n",
    "# entendimento\n",
    "\n",
    "fig, ax = plt.subplots()\n",
    "ax.bar(resultado['estado'], resultado['fraude?'], label = 'estado x fraude')\n",
    "ax.set_title('estado x fraude'.title(), color = 'purple')\n",
    "ax.set_ylabel('percentual de fraude'.title(), color = 'red')\n",
    "ax.set_xlabel('estados'.title(), color = 'blue')\n",
    "ax.set_ylim(0.09)\n",
    "ax.set_xlim(-1)\n",
    "ax.annotate('foco\\naqui'.upper(),(-0.5,0.39492061), color = 'red')\n",
    "ax.legend()\n",
    "plt.axis('on')\n",
    "plt.show()\n",
    "\n",
    "# descobrimos que apesar do estado CA ter o maior numero de fraudes\n",
    "# a porcentagem de fraudes em relação ao total de transações\n",
    "# acaba sendo significativamente menor comparado com o estado AK.\n",
    "\n",
    "#----------------------------------------------------#\n",
    "\n",
    "\n",
    "# agora sabemos em ordem os que possuem maior porcentagem de fraude, tal quais devemos dar\n",
    "# mais foco e consequentemente diminuir prejuizos financeiros a longo prazo !!!"
   ]
  },
  {
   "cell_type": "code",
   "execution_count": 244,
   "id": "2ab2f19a-bf10-4fd8-b983-d47c972ce631",
   "metadata": {},
   "outputs": [
    {
     "data": {
      "text/html": [
       "<div>\n",
       "<style scoped>\n",
       "    .dataframe tbody tr th:only-of-type {\n",
       "        vertical-align: middle;\n",
       "    }\n",
       "\n",
       "    .dataframe tbody tr th {\n",
       "        vertical-align: top;\n",
       "    }\n",
       "\n",
       "    .dataframe thead th {\n",
       "        text-align: right;\n",
       "    }\n",
       "</style>\n",
       "<table border=\"1\" class=\"dataframe\">\n",
       "  <thead>\n",
       "    <tr style=\"text-align: right;\">\n",
       "      <th></th>\n",
       "      <th>data_hora_transação</th>\n",
       "      <th>categoria</th>\n",
       "      <th>cidade</th>\n",
       "      <th>estado</th>\n",
       "      <th>cargo</th>\n",
       "      <th>trans_num</th>\n",
       "      <th>fraude?</th>\n",
       "    </tr>\n",
       "  </thead>\n",
       "  <tbody>\n",
       "    <tr>\n",
       "      <th>0</th>\n",
       "      <td>04-01-2019 00:58</td>\n",
       "      <td>grocery_net</td>\n",
       "      <td>Wales</td>\n",
       "      <td>AK</td>\n",
       "      <td>\"Administrator, education\"</td>\n",
       "      <td>a3806e984cec6ac0096d8184c64ad3a1</td>\n",
       "      <td>1</td>\n",
       "    </tr>\n",
       "    <tr>\n",
       "      <th>1</th>\n",
       "      <td>04-01-2019 15:06</td>\n",
       "      <td>shopping_net</td>\n",
       "      <td>Wales</td>\n",
       "      <td>AK</td>\n",
       "      <td>\"Administrator, education\"</td>\n",
       "      <td>a59185fe1b9ccf21323f581d7477573f</td>\n",
       "      <td>1</td>\n",
       "    </tr>\n",
       "    <tr>\n",
       "      <th>2</th>\n",
       "      <td>04-01-2019 22:37</td>\n",
       "      <td>misc_pos</td>\n",
       "      <td>Wales</td>\n",
       "      <td>AK</td>\n",
       "      <td>\"Administrator, education\"</td>\n",
       "      <td>86ba3a888b42cd3925881fa34177b4e0</td>\n",
       "      <td>1</td>\n",
       "    </tr>\n",
       "    <tr>\n",
       "      <th>3</th>\n",
       "      <td>04-01-2019 23:06</td>\n",
       "      <td>grocery_pos</td>\n",
       "      <td>Wales</td>\n",
       "      <td>AK</td>\n",
       "      <td>\"Administrator, education\"</td>\n",
       "      <td>3a068fe1d856f0ecedbed33e4b5f4496</td>\n",
       "      <td>1</td>\n",
       "    </tr>\n",
       "    <tr>\n",
       "      <th>4</th>\n",
       "      <td>04-01-2019 23:59</td>\n",
       "      <td>health_fitness</td>\n",
       "      <td>Wales</td>\n",
       "      <td>AK</td>\n",
       "      <td>\"Administrator, education\"</td>\n",
       "      <td>891cdd1191028759dc20dc224347a0ff</td>\n",
       "      <td>1</td>\n",
       "    </tr>\n",
       "  </tbody>\n",
       "</table>\n",
       "</div>"
      ],
      "text/plain": [
       "  data_hora_transação       categoria cidade estado  \\\n",
       "0    04-01-2019 00:58     grocery_net  Wales     AK   \n",
       "1    04-01-2019 15:06    shopping_net  Wales     AK   \n",
       "2    04-01-2019 22:37        misc_pos  Wales     AK   \n",
       "3    04-01-2019 23:06     grocery_pos  Wales     AK   \n",
       "4    04-01-2019 23:59  health_fitness  Wales     AK   \n",
       "\n",
       "                        cargo                         trans_num  fraude?  \n",
       "0  \"Administrator, education\"  a3806e984cec6ac0096d8184c64ad3a1        1  \n",
       "1  \"Administrator, education\"  a59185fe1b9ccf21323f581d7477573f        1  \n",
       "2  \"Administrator, education\"  86ba3a888b42cd3925881fa34177b4e0        1  \n",
       "3  \"Administrator, education\"  3a068fe1d856f0ecedbed33e4b5f4496        1  \n",
       "4  \"Administrator, education\"  891cdd1191028759dc20dc224347a0ff        1  "
      ]
     },
     "execution_count": 244,
     "metadata": {},
     "output_type": "execute_result"
    }
   ],
   "source": [
    "# vamos chamar denovo o top 5 dos nossos dados para tomarmos outro rumo\n",
    "\n",
    "f.head()"
   ]
  },
  {
   "cell_type": "markdown",
   "id": "27d88c23-4885-4ffe-b32f-5c4e789959b1",
   "metadata": {},
   "source": [
    "**resolvi agora analisar o as cidades que fazem parte do estado com\n",
    "maior percentual de fraude (ak) e ver qual a cidade com maior\n",
    "percentual de fraude**"
   ]
  },
  {
   "cell_type": "code",
   "execution_count": 245,
   "id": "82f80c02-53c5-4009-a2ee-bc51b812b4a3",
   "metadata": {},
   "outputs": [],
   "source": [
    "# filtrei meu dataframe para me mostrar somente dados sobre o estado AK\n",
    "# ignorando os demais estados\n",
    "\n",
    "ak = f[f['estado'] == 'AK']"
   ]
  },
  {
   "cell_type": "code",
   "execution_count": 246,
   "id": "c4635974-0809-4c4f-8601-fb4109472865",
   "metadata": {},
   "outputs": [],
   "source": [
    "# aqui fiz um agrupamento de fraudes por cidades e\n",
    "# uma contagem de valores com value_counts para identificar\n",
    "# quantos 1 (fraudes) e 0 (não fraudes) existem por cada cidade\n",
    "# do estado AK e reset_index para resetar os indices para o padrão,\n",
    "# armazenei em uma variavel que chamei de akcity\n",
    "# akcity = ( estado ak e city para representar as cidades do dataframe ).\n",
    "\n",
    "akcity = ak.groupby(['cidade'])['fraude?'].value_counts().reset_index()"
   ]
  },
  {
   "cell_type": "code",
   "execution_count": 247,
   "id": "32867e96-296f-4645-947a-9f4dc13222f4",
   "metadata": {},
   "outputs": [
    {
     "data": {
      "text/html": [
       "<div>\n",
       "<style scoped>\n",
       "    .dataframe tbody tr th:only-of-type {\n",
       "        vertical-align: middle;\n",
       "    }\n",
       "\n",
       "    .dataframe tbody tr th {\n",
       "        vertical-align: top;\n",
       "    }\n",
       "\n",
       "    .dataframe thead th {\n",
       "        text-align: right;\n",
       "    }\n",
       "</style>\n",
       "<table border=\"1\" class=\"dataframe\">\n",
       "  <thead>\n",
       "    <tr style=\"text-align: right;\">\n",
       "      <th></th>\n",
       "      <th>cidade</th>\n",
       "      <th>fraude?</th>\n",
       "      <th>count</th>\n",
       "    </tr>\n",
       "  </thead>\n",
       "  <tbody>\n",
       "    <tr>\n",
       "      <th>0</th>\n",
       "      <td>Craig</td>\n",
       "      <td>1</td>\n",
       "      <td>14</td>\n",
       "    </tr>\n",
       "    <tr>\n",
       "      <th>1</th>\n",
       "      <td>Huslia</td>\n",
       "      <td>0</td>\n",
       "      <td>27</td>\n",
       "    </tr>\n",
       "    <tr>\n",
       "      <th>2</th>\n",
       "      <td>Huslia</td>\n",
       "      <td>1</td>\n",
       "      <td>9</td>\n",
       "    </tr>\n",
       "    <tr>\n",
       "      <th>3</th>\n",
       "      <td>Kaktovik</td>\n",
       "      <td>1</td>\n",
       "      <td>12</td>\n",
       "    </tr>\n",
       "    <tr>\n",
       "      <th>4</th>\n",
       "      <td>Wales</td>\n",
       "      <td>0</td>\n",
       "      <td>81</td>\n",
       "    </tr>\n",
       "    <tr>\n",
       "      <th>5</th>\n",
       "      <td>Wales</td>\n",
       "      <td>1</td>\n",
       "      <td>30</td>\n",
       "    </tr>\n",
       "  </tbody>\n",
       "</table>\n",
       "</div>"
      ],
      "text/plain": [
       "     cidade  fraude?  count\n",
       "0     Craig        1     14\n",
       "1    Huslia        0     27\n",
       "2    Huslia        1      9\n",
       "3  Kaktovik        1     12\n",
       "4     Wales        0     81\n",
       "5     Wales        1     30"
      ]
     },
     "execution_count": 247,
     "metadata": {},
     "output_type": "execute_result"
    }
   ],
   "source": [
    "# aqui chamei minha variavel akcity para visualização dos dados\n",
    "# e vemos que o agrupamendo pelas cidades do estado do AK\n",
    "# ficou mais facil para visualização e entendimento do nosso dataframe\n",
    "\n",
    "akcity"
   ]
  },
  {
   "cell_type": "code",
   "execution_count": 248,
   "id": "3a12d77e-9ea7-4d54-b655-9f93ee76e0b3",
   "metadata": {},
   "outputs": [],
   "source": [
    "# aqui adicionei uma nova coluna no dataframe contendo\n",
    "# a soma de todos os registros de cada um\n",
    "# nos retornando uma nova coluna com a soma total dos registros para cada cidade\n",
    "# o que facilitará e muito para nós conseguirmos chegar no nosso objetivo que é\n",
    "# achar a cidade com maior percentual dentro do estado que ja possui por si só,\n",
    "# o maior percentual de fraudes\n",
    "\n",
    "akcity['contagem total por cidade'] = akcity.groupby('cidade')[['count']].transform('sum')"
   ]
  },
  {
   "cell_type": "code",
   "execution_count": 249,
   "id": "1f54398a-f444-44f2-a851-486e9155e8c1",
   "metadata": {},
   "outputs": [
    {
     "data": {
      "text/html": [
       "<div>\n",
       "<style scoped>\n",
       "    .dataframe tbody tr th:only-of-type {\n",
       "        vertical-align: middle;\n",
       "    }\n",
       "\n",
       "    .dataframe tbody tr th {\n",
       "        vertical-align: top;\n",
       "    }\n",
       "\n",
       "    .dataframe thead th {\n",
       "        text-align: right;\n",
       "    }\n",
       "</style>\n",
       "<table border=\"1\" class=\"dataframe\">\n",
       "  <thead>\n",
       "    <tr style=\"text-align: right;\">\n",
       "      <th></th>\n",
       "      <th>cidade</th>\n",
       "      <th>fraude?</th>\n",
       "      <th>count</th>\n",
       "      <th>contagem total por cidade</th>\n",
       "    </tr>\n",
       "  </thead>\n",
       "  <tbody>\n",
       "    <tr>\n",
       "      <th>0</th>\n",
       "      <td>Craig</td>\n",
       "      <td>1</td>\n",
       "      <td>14</td>\n",
       "      <td>14</td>\n",
       "    </tr>\n",
       "    <tr>\n",
       "      <th>1</th>\n",
       "      <td>Huslia</td>\n",
       "      <td>0</td>\n",
       "      <td>27</td>\n",
       "      <td>36</td>\n",
       "    </tr>\n",
       "    <tr>\n",
       "      <th>2</th>\n",
       "      <td>Huslia</td>\n",
       "      <td>1</td>\n",
       "      <td>9</td>\n",
       "      <td>36</td>\n",
       "    </tr>\n",
       "    <tr>\n",
       "      <th>3</th>\n",
       "      <td>Kaktovik</td>\n",
       "      <td>1</td>\n",
       "      <td>12</td>\n",
       "      <td>12</td>\n",
       "    </tr>\n",
       "    <tr>\n",
       "      <th>4</th>\n",
       "      <td>Wales</td>\n",
       "      <td>0</td>\n",
       "      <td>81</td>\n",
       "      <td>111</td>\n",
       "    </tr>\n",
       "    <tr>\n",
       "      <th>5</th>\n",
       "      <td>Wales</td>\n",
       "      <td>1</td>\n",
       "      <td>30</td>\n",
       "      <td>111</td>\n",
       "    </tr>\n",
       "  </tbody>\n",
       "</table>\n",
       "</div>"
      ],
      "text/plain": [
       "     cidade  fraude?  count  contagem total por cidade\n",
       "0     Craig        1     14                         14\n",
       "1    Huslia        0     27                         36\n",
       "2    Huslia        1      9                         36\n",
       "3  Kaktovik        1     12                         12\n",
       "4     Wales        0     81                        111\n",
       "5     Wales        1     30                        111"
      ]
     },
     "execution_count": 249,
     "metadata": {},
     "output_type": "execute_result"
    }
   ],
   "source": [
    "# aqui exibimos nosso dataframe com a nova coluna de contagem total\n",
    "# ( note que existem duplicatas porem contendo o mesmo resultado)\n",
    "# porque essas duplicatas representam a mesma cidade,\n",
    "# é claro que com um dataframe muito maior ou bigdatas,\n",
    "# usariamos algumas outras maneiras para evitar essas duplicatas,\n",
    "# mas nesse caso especifico essas duplicatas não nos causarâo nenhum problema\n",
    "# nas nossas análises futuras!!!\n",
    "\n",
    "akcity"
   ]
  },
  {
   "cell_type": "code",
   "execution_count": 250,
   "id": "5ab52ace-4091-441f-ba99-9a3acfb64912",
   "metadata": {},
   "outputs": [
    {
     "data": {
      "text/html": [
       "<div>\n",
       "<style scoped>\n",
       "    .dataframe tbody tr th:only-of-type {\n",
       "        vertical-align: middle;\n",
       "    }\n",
       "\n",
       "    .dataframe tbody tr th {\n",
       "        vertical-align: top;\n",
       "    }\n",
       "\n",
       "    .dataframe thead th {\n",
       "        text-align: right;\n",
       "    }\n",
       "</style>\n",
       "<table border=\"1\" class=\"dataframe\">\n",
       "  <thead>\n",
       "    <tr style=\"text-align: right;\">\n",
       "      <th></th>\n",
       "      <th>cidade</th>\n",
       "      <th>fraude?</th>\n",
       "      <th>count</th>\n",
       "      <th>contagem total por cidade</th>\n",
       "    </tr>\n",
       "  </thead>\n",
       "  <tbody>\n",
       "    <tr>\n",
       "      <th>0</th>\n",
       "      <td>Craig</td>\n",
       "      <td>1</td>\n",
       "      <td>14</td>\n",
       "      <td>14</td>\n",
       "    </tr>\n",
       "    <tr>\n",
       "      <th>1</th>\n",
       "      <td>Huslia</td>\n",
       "      <td>0</td>\n",
       "      <td>27</td>\n",
       "      <td>36</td>\n",
       "    </tr>\n",
       "    <tr>\n",
       "      <th>2</th>\n",
       "      <td>Huslia</td>\n",
       "      <td>1</td>\n",
       "      <td>9</td>\n",
       "      <td>36</td>\n",
       "    </tr>\n",
       "    <tr>\n",
       "      <th>3</th>\n",
       "      <td>Kaktovik</td>\n",
       "      <td>1</td>\n",
       "      <td>12</td>\n",
       "      <td>12</td>\n",
       "    </tr>\n",
       "    <tr>\n",
       "      <th>4</th>\n",
       "      <td>Wales</td>\n",
       "      <td>0</td>\n",
       "      <td>81</td>\n",
       "      <td>111</td>\n",
       "    </tr>\n",
       "    <tr>\n",
       "      <th>5</th>\n",
       "      <td>Wales</td>\n",
       "      <td>1</td>\n",
       "      <td>30</td>\n",
       "      <td>111</td>\n",
       "    </tr>\n",
       "  </tbody>\n",
       "</table>\n",
       "</div>"
      ],
      "text/plain": [
       "     cidade  fraude?  count  contagem total por cidade\n",
       "0     Craig        1     14                         14\n",
       "1    Huslia        0     27                         36\n",
       "2    Huslia        1      9                         36\n",
       "3  Kaktovik        1     12                         12\n",
       "4     Wales        0     81                        111\n",
       "5     Wales        1     30                        111"
      ]
     },
     "metadata": {},
     "output_type": "display_data"
    },
    {
     "name": "stdout",
     "output_type": "stream",
     "text": [
      " percentual de fraudes da cidade de Craig = 100%\n",
      " percentual de fraudes da cidade de Huslia = 25%\n",
      " percentual de fraudes da cidade de Kaktovik = 100%\n",
      " percentual de fraudes da cidade de Wales = 27%\n"
     ]
    }
   ],
   "source": [
    "# agora é a hora que chamo de pulo do gato, para achar o percentual, dividimos\n",
    "# a parte pelo total ( padrão ), porem como temos um dataframe ao invés de\n",
    "# simplesmente numeros, posso usar somente um [] ao invés de [[]], o que me retornará\n",
    "# um series, qual podemos fazer uma divisão usando indices para chegarmos no nosso \n",
    "# resultado\n",
    "#-------------------\n",
    "# para isso, dividirei as contagens de 1 = (fraude) pela contagem total\n",
    "# assim descobriremos o percentual de fraudes de cada cidade dentro do estado AK.\n",
    "display(akcity)\n",
    "print(f' percentual de fraudes da cidade de Craig = {akcity[\"count\"][0] / akcity[\"contagem total por cidade\"][0]:.0%}')\n",
    "print(f' percentual de fraudes da cidade de Huslia = {akcity[\"count\"][2] / akcity[\"contagem total por cidade\"][2]:.0%}')\n",
    "print(f' percentual de fraudes da cidade de Kaktovik = {akcity[\"count\"][3] / akcity[\"contagem total por cidade\"][3]:.0%}')\n",
    "print(f' percentual de fraudes da cidade de Wales = {akcity[\"count\"][5] / akcity[\"contagem total por cidade\"][5]:.0%}')\n",
    "\n",
    "# com isso descobrimos o percentual de fraudes de cada cidade em relação ao total de transações de cada um"
   ]
  },
  {
   "cell_type": "code",
   "execution_count": 251,
   "id": "cc38e86f-a079-4ae5-94b4-9f67aaa203a9",
   "metadata": {},
   "outputs": [
    {
     "name": "stderr",
     "output_type": "stream",
     "text": [
      "C:\\Users\\Agnaldo\\AppData\\Local\\Temp\\ipykernel_10020\\1942705956.py:9: SettingWithCopyWarning: \n",
      "A value is trying to be set on a copy of a slice from a DataFrame\n",
      "\n",
      "See the caveats in the documentation: https://pandas.pydata.org/pandas-docs/stable/user_guide/indexing.html#returning-a-view-versus-a-copy\n",
      "  akcity['percentuais_de_fraude'].iloc[i] = akcity['count'].iloc[i] / akcity['contagem total por cidade'].iloc[i]\n",
      "C:\\Users\\Agnaldo\\AppData\\Local\\Temp\\ipykernel_10020\\1942705956.py:9: SettingWithCopyWarning: \n",
      "A value is trying to be set on a copy of a slice from a DataFrame\n",
      "\n",
      "See the caveats in the documentation: https://pandas.pydata.org/pandas-docs/stable/user_guide/indexing.html#returning-a-view-versus-a-copy\n",
      "  akcity['percentuais_de_fraude'].iloc[i] = akcity['count'].iloc[i] / akcity['contagem total por cidade'].iloc[i]\n",
      "C:\\Users\\Agnaldo\\AppData\\Local\\Temp\\ipykernel_10020\\1942705956.py:9: FutureWarning: Setting an item of incompatible dtype is deprecated and will raise in a future error of pandas. Value '0.75' has dtype incompatible with int64, please explicitly cast to a compatible dtype first.\n",
      "  akcity['percentuais_de_fraude'].iloc[i] = akcity['count'].iloc[i] / akcity['contagem total por cidade'].iloc[i]\n"
     ]
    }
   ],
   "source": [
    "# Criando uma nova coluna para armazenar os percentuais\n",
    "akcity['percentuais_de_fraude'] = 0\n",
    "\n",
    "# Iterando sobre os índices do DataFrame, calculando percentuais e armazenando\n",
    "# eles na nova coluna, cada um em uma linha, correspondendo a cada cidade (para plotar)\n",
    "\n",
    "\n",
    "for i in range(len(akcity)):\n",
    "    akcity['percentuais_de_fraude'].iloc[i] = akcity['count'].iloc[i] / akcity['contagem total por cidade'].iloc[i]"
   ]
  },
  {
   "cell_type": "code",
   "execution_count": 252,
   "id": "6ac2c791-0d32-4e86-9ef4-d3a03811ddb8",
   "metadata": {},
   "outputs": [],
   "source": [
    "akcity = akcity.drop(index = 1)"
   ]
  },
  {
   "cell_type": "code",
   "execution_count": 253,
   "id": "b3845f21-abc6-4cd7-99fe-b6b1eff803b1",
   "metadata": {},
   "outputs": [],
   "source": [
    "akcity = akcity.drop(index = 4)"
   ]
  },
  {
   "cell_type": "code",
   "execution_count": 254,
   "id": "e3cba78f-e60e-4c97-ad09-f0d98faae274",
   "metadata": {},
   "outputs": [
    {
     "data": {
      "text/html": [
       "<div>\n",
       "<style scoped>\n",
       "    .dataframe tbody tr th:only-of-type {\n",
       "        vertical-align: middle;\n",
       "    }\n",
       "\n",
       "    .dataframe tbody tr th {\n",
       "        vertical-align: top;\n",
       "    }\n",
       "\n",
       "    .dataframe thead th {\n",
       "        text-align: right;\n",
       "    }\n",
       "</style>\n",
       "<table border=\"1\" class=\"dataframe\">\n",
       "  <thead>\n",
       "    <tr style=\"text-align: right;\">\n",
       "      <th></th>\n",
       "      <th>cidade</th>\n",
       "      <th>fraude?</th>\n",
       "      <th>count</th>\n",
       "      <th>contagem total por cidade</th>\n",
       "      <th>percentuais_de_fraude</th>\n",
       "    </tr>\n",
       "  </thead>\n",
       "  <tbody>\n",
       "    <tr>\n",
       "      <th>0</th>\n",
       "      <td>Craig</td>\n",
       "      <td>1</td>\n",
       "      <td>14</td>\n",
       "      <td>14</td>\n",
       "      <td>1.00000</td>\n",
       "    </tr>\n",
       "    <tr>\n",
       "      <th>2</th>\n",
       "      <td>Huslia</td>\n",
       "      <td>1</td>\n",
       "      <td>9</td>\n",
       "      <td>36</td>\n",
       "      <td>0.25000</td>\n",
       "    </tr>\n",
       "    <tr>\n",
       "      <th>3</th>\n",
       "      <td>Kaktovik</td>\n",
       "      <td>1</td>\n",
       "      <td>12</td>\n",
       "      <td>12</td>\n",
       "      <td>1.00000</td>\n",
       "    </tr>\n",
       "    <tr>\n",
       "      <th>5</th>\n",
       "      <td>Wales</td>\n",
       "      <td>1</td>\n",
       "      <td>30</td>\n",
       "      <td>111</td>\n",
       "      <td>0.27027</td>\n",
       "    </tr>\n",
       "  </tbody>\n",
       "</table>\n",
       "</div>"
      ],
      "text/plain": [
       "     cidade  fraude?  count  contagem total por cidade  percentuais_de_fraude\n",
       "0     Craig        1     14                         14                1.00000\n",
       "2    Huslia        1      9                         36                0.25000\n",
       "3  Kaktovik        1     12                         12                1.00000\n",
       "5     Wales        1     30                        111                0.27027"
      ]
     },
     "execution_count": 254,
     "metadata": {},
     "output_type": "execute_result"
    }
   ],
   "source": [
    "akcity"
   ]
  },
  {
   "cell_type": "code",
   "execution_count": 255,
   "id": "35c951bf-58cf-4f69-868b-977b6522b5db",
   "metadata": {},
   "outputs": [
    {
     "data": {
      "image/png": "[encoded data removed]",
      "text/plain": [
       "<Figure size 1000x400 with 2 Axes>"
      ]
     },
     "metadata": {},
     "output_type": "display_data"
    }
   ],
   "source": [
    "# agora irei mostrar os resultados graficamentes.\n",
    "# aqui plotei os gráficos, usei annotate para adicionar os percentuais\n",
    "# sobre as barras e posicionar-los corretamente,\n",
    "# usei for i in range no\n",
    "# annotate, para dar mais realce nas porcentagens\n",
    "# e deixar as informações mais aparentes\n",
    "\n",
    "fig, ax = plt.subplots(1, 2,figsize = (10, 4))\n",
    "ax[0].bar(akcity['cidade'], akcity['percentuais_de_fraude'], label = 'cidade x fraude', color = 'black')\n",
    "ax[0].set_title('percentual de fraudes por cidade')  \n",
    "ax[0].set_ylabel('percentuais'.upper(), color = 'red')\n",
    "ax[0].set_xlabel('cidades'.upper(), color = 'red')\n",
    "ax[0].set_ylim(0.05)\n",
    "for i in range(5):   \n",
    "    ax[0].annotate('100%', (-0.11, 1.01), color = 'red')\n",
    "for i in range(5):    \n",
    "    ax[0].annotate('25%', (0.91, 0.31), color = 'red')\n",
    "for i in range(5):\n",
    "    ax[0].annotate('100%', (1.9, 1.01), color = 'red')\n",
    "for i in range(5):\n",
    "    ax[0].annotate('27%', (2.9, 0.31), color = 'red')\n",
    "for i in range(5):\n",
    "    ax[0].annotate('<--- foco\\nnesses --->', (0.6, 0.6), color = 'red')\n",
    "ax[0].legend(loc = 'lower right')\n",
    "\n",
    "#---------------------------------------------#\n",
    "\n",
    "# aqui plotei o segundo gráfico mostrando a contagem total\n",
    "# de transações feitas nas cidades para fim de comparativo\n",
    "# da relação fraude x contagem de transações por cidades.\n",
    "\n",
    "ax[1].bar(akcity['cidade'], akcity['contagem total por cidade'], label = 'cont por cidades', color = 'red')\n",
    "ax[1].set_title('contagens de transações por cidades'.upper())\n",
    "ax[1].set_ylabel('contagens'.upper(), color = 'red')\n",
    "ax[1].set_xlabel('cidades'.upper(), color = 'red')\n",
    "ax[1].legend()\n",
    "for i in range(5):\n",
    "    ax[1].annotate('14', (-0.1, 19))\n",
    "for i in range(5):\n",
    "    ax[1].annotate('36', (0.9, 40))\n",
    "for i in range(5):\n",
    "    ax[1].annotate('12', (1.85, 17))\n",
    "for i in range(5):\n",
    "    ax[1].annotate('111', (2.87, 111.6))\n",
    "for i in range(5):\n",
    "    ax[1].annotate('cidade com maior\\nnumero de\\ntransações ---->'.title(),(1, 80), color = 'red')\n",
    "plt.tight_layout()\n",
    "plt.show()"
   ]
  },
  {
   "cell_type": "markdown",
   "id": "1f046a16-5ece-4771-8fbd-9298afeec6b0",
   "metadata": {},
   "source": [
    "**acima chegamos nos resultados ( cidades com maior percentual de fraudes )\n",
    "e na contagem total de transações feitas em cada uma delas**"
   ]
  },
  {
   "cell_type": "markdown",
   "id": "8998cf9b-fef4-4188-9531-e9a17d91abff",
   "metadata": {},
   "source": [
    "**conseguindo essas duas informações, consigo saber quais estados/cidades devo priorizar e tomar\n",
    "as devidas decisões sobre elas para diminuir o prejuizo e as dores de cabeça em relação a esse\n",
    "numero de fraudes**"
   ]
  }
 ],
 "metadata": {
  "kernelspec": {
   "display_name": "Python 3 (ipykernel)",
   "language": "python",
   "name": "python3"
  },
  "language_info": {
   "codemirror_mode": {
    "name": "ipython",
    "version": 3
   },
   "file_extension": ".py",
   "mimetype": "text/x-python",
   "name": "python",
   "nbconvert_exporter": "python",
   "pygments_lexer": "ipython3",
   "version": "3.11.7"
  }
 },
 "nbformat": 4,
 "nbformat_minor": 5
}
